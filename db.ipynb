{
 "cells": [
  {
   "cell_type": "code",
   "execution_count": 65,
   "metadata": {},
   "outputs": [
    {
     "name": "stdout",
     "output_type": "stream",
     "text": [
      "Defaulting to user installation because normal site-packages is not writeable\n",
      "Requirement already satisfied: mysql-connector-python in c:\\users\\antoi\\appdata\\roaming\\python\\python312\\site-packages (9.0.0)\n"
     ]
    }
   ],
   "source": [
    "!pip install mysql-connector-python"
   ]
  },
  {
   "cell_type": "code",
   "execution_count": 66,
   "metadata": {},
   "outputs": [],
   "source": [
    "import mysql.connector\n",
    "from mysql.connector import Error\n",
    "from dotenv import load_dotenv\n",
    "import os"
   ]
  },
  {
   "cell_type": "code",
   "execution_count": 67,
   "metadata": {},
   "outputs": [],
   "source": [
    "# Load environment variables from .env file\n",
    "load_dotenv()\n",
    "\n",
    "# Database connection details\n",
    "db_host = os.getenv('DB_HOST')\n",
    "db_user = os.getenv('MYSQL_USER')\n",
    "db_password = os.getenv('MYSQL_PASSWORD')\n",
    "db_database = os.getenv('MYSQL_DATABASE')"
   ]
  },
  {
   "cell_type": "code",
   "execution_count": 68,
   "metadata": {},
   "outputs": [],
   "source": [
    "def create_connection(host_name, user_name, user_password, db_name):\n",
    "    connection = None\n",
    "    try:\n",
    "        connection = mysql.connector.connect(\n",
    "            host=host_name,\n",
    "            user=user_name,\n",
    "            passwd=user_password,\n",
    "            database=db_name\n",
    "        )\n",
    "        print(\"Connection to MySQL DB successful\")\n",
    "    except Error as e:\n",
    "        print(f\"The error '{e}' occurred\")\n",
    "    return connection"
   ]
  },
  {
   "cell_type": "code",
   "execution_count": 69,
   "metadata": {},
   "outputs": [],
   "source": [
    "def execute_query(connection, query):\n",
    "    cursor = connection.cursor()\n",
    "    try:\n",
    "        cursor.execute(query)\n",
    "        connection.commit()\n",
    "        print(f\"Query executed successfully: {query}\")\n",
    "    except Error as e:\n",
    "        print(f\"The error '{e}' occurred when executing: {query}\")"
   ]
  },
  {
   "cell_type": "code",
   "execution_count": 70,
   "metadata": {},
   "outputs": [],
   "source": [
    "def execute_script_from_file(connection, file_path):\n",
    "    cursor = connection.cursor()\n",
    "    with open(file_path, 'r') as file:\n",
    "        script = file.read()\n",
    "\n",
    "    statements = script.split(';')\n",
    "\n",
    "    for statement in statements:\n",
    "        if statement.strip():\n",
    "            try:\n",
    "                cursor.execute(statement)\n",
    "                connection.commit()\n",
    "                print(f\"Statement executed successfully: {statement}\")\n",
    "            except Error as e:\n",
    "                if e.errno == 1050:  # Error code for \"Table already exists\"\n",
    "                    print(f\"The error '{e}' occurred when executing statement: {statement} - Table already exists, continuing...\")\n",
    "                elif e.errno == 1061:  # Error code for \"Duplicate key name\"\n",
    "                    print(f\"The error '{e}' occurred when executing statement: {statement} - Duplicate key name, continuing...\")\n",
    "                elif e.errno == 1062:  # Error code for \"Duplicate entry\"\n",
    "                    print(f\"The error '{e}' occurred when executing statement: {statement} - Duplicate entry, continuing...\")\n",
    "                elif e.errno == 1146:  # Error code for \"Table doesn't exist\"\n",
    "                    print(f\"The error '{e}' occurred when executing statement: {statement} - Table doesn't exist, continuing...\")\n",
    "                else:\n",
    "                    print(f\"The error '{e}' occurred when executing statement: {statement}\")\n"
   ]
  },
  {
   "cell_type": "code",
   "execution_count": 71,
   "metadata": {},
   "outputs": [
    {
     "name": "stdout",
     "output_type": "stream",
     "text": [
      "Connection to MySQL DB successful\n",
      "The error '1050 (42S01): Table 'Clients' already exists' occurred when executing statement: CREATE TABLE Clients (\n",
      "    id INT AUTO_INCREMENT PRIMARY KEY,\n",
      "    username VARCHAR(50) NOT NULL UNIQUE,\n",
      "    email VARCHAR(100) NOT NULL UNIQUE,\n",
      "    password VARCHAR(255) NOT NULL,\n",
      "    role ENUM('admin', 'client') NOT NULL DEFAULT 'client',\n",
      "    created_at TIMESTAMP DEFAULT CURRENT_TIMESTAMP,\n",
      "    updated_at TIMESTAMP DEFAULT CURRENT_TIMESTAMP ON UPDATE CURRENT_TIMESTAMP\n",
      ") - Table already exists, continuing...\n",
      "The error '1061 (42000): Duplicate key name 'unique_username'' occurred when executing statement: ALTER TABLE Clients\n",
      "ADD CONSTRAINT unique_username UNIQUE (username),\n",
      "ADD CONSTRAINT unique_email UNIQUE (email) - Duplicate key name, continuing...\n",
      "Statement executed successfully: INSERT INTO Clients (username, email, password, role)\n",
      "VALUES ('user', 'u@u.com', PASSWORD('1234'), 'client')\n"
     ]
    }
   ],
   "source": [
    "def main():\n",
    "    connection = create_connection(db_host, db_user, db_password, db_database)\n",
    "\n",
    "    if connection:\n",
    "        execute_script_from_file(connection, \"db/1create.sql\")\n",
    "        execute_script_from_file(connection, \"db/2contraines.sql\")\n",
    "        execute_script_from_file(connection, \"db/3insert.sql\")\n",
    "\n",
    "        connection.close()\n",
    "\n",
    "if __name__ == \"__main__\":\n",
    "    main()"
   ]
  }
 ],
 "metadata": {
  "kernelspec": {
   "display_name": "Python 3",
   "language": "python",
   "name": "python3"
  },
  "language_info": {
   "codemirror_mode": {
    "name": "ipython",
    "version": 3
   },
   "file_extension": ".py",
   "mimetype": "text/x-python",
   "name": "python",
   "nbconvert_exporter": "python",
   "pygments_lexer": "ipython3",
   "version": "3.12.4"
  }
 },
 "nbformat": 4,
 "nbformat_minor": 2
}
